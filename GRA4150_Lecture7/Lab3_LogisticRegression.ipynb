{
 "cells": [
  {
   "cell_type": "markdown",
   "id": "13ae256f",
   "metadata": {},
   "source": [
    "# Converting Adaline into logistic regression"
   ]
  },
  {
   "cell_type": "code",
   "execution_count": 1,
   "id": "be029d55",
   "metadata": {},
   "outputs": [],
   "source": [
    "import numpy as np\n",
    "import pandas as pd\n",
    "%matplotlib inline\n",
    "import matplotlib.pyplot as plt\n",
    "from matplotlib.colors import ListedColormap"
   ]
  },
  {
   "cell_type": "code",
   "execution_count": 2,
   "id": "c4af8a90",
   "metadata": {},
   "outputs": [
    {
     "name": "stdout",
     "output_type": "stream",
     "text": [
      "From URL: https://archive.ics.uci.edu/ml/machine-learning-databases/iris/iris.data\n"
     ]
    }
   ],
   "source": [
    "# Reading-in the Iris data\n",
    "\n",
    "try:\n",
    "    s = 'https://archive.ics.uci.edu/ml/machine-learning-databases/iris/iris.data'\n",
    "    print('From URL:', s)\n",
    "    df = pd.read_csv(s,\n",
    "                     header=None,\n",
    "                     encoding='utf-8')\n",
    "    \n",
    "except HTTPError:\n",
    "    s = 'iris.data'\n",
    "    print('From local Iris path:', s)\n",
    "    df = pd.read_csv(s,\n",
    "                     header=None,\n",
    "                     encoding='utf-8')"
   ]
  },
  {
   "cell_type": "code",
   "execution_count": 3,
   "id": "a342d4e2",
   "metadata": {},
   "outputs": [],
   "source": [
    "class LogisticRegressionGD:\n",
    "    \"\"\"Gradient descent-based logistic regression classifier.\n",
    "\n",
    "    Parameters\n",
    "    ------------\n",
    "    eta : float\n",
    "      Learning rate (between 0.0 and 1.0)\n",
    "    n_iter : int\n",
    "      Passes over the training dataset.\n",
    "    random_state : int\n",
    "      Random number generator seed for random weight\n",
    "      initialization.\n",
    "\n",
    "\n",
    "    Attributes\n",
    "    -----------\n",
    "    w_ : 1d-array\n",
    "      Weights after training.\n",
    "    b_ : Scalar\n",
    "      Bias unit after fitting.\n",
    "    losses_ : list\n",
    "      Mean squared error loss function values in each epoch.\n",
    "\n",
    "    \"\"\"\n",
    "    def __init__(self, eta=0.01, n_iter=50, random_state=1):\n",
    "        self.eta = eta\n",
    "        self.n_iter = n_iter\n",
    "        self.random_state = random_state\n",
    "\n",
    "    def fit(self, X, y):\n",
    "        \"\"\" Fit training data.\n",
    "\n",
    "        Parameters\n",
    "        ----------\n",
    "        X : {array-like}, shape = [n_examples, n_features]\n",
    "          Training vectors, where n_examples is the number of examples and\n",
    "          n_features is the number of features.\n",
    "        y : array-like, shape = [n_examples]\n",
    "          Target values.\n",
    "\n",
    "        Returns\n",
    "        -------\n",
    "        self : Instance of LogisticRegressionGD\n",
    "\n",
    "        \"\"\"\n",
    "        rgen = np.random.RandomState(self.random_state)\n",
    "        self.w_ = rgen.normal(loc=0.0, scale=0.01, size=X.shape[1])\n",
    "        self.b_ = np.float_(0.)\n",
    "        self.losses_ = []\n",
    "\n",
    "        for i in range(self.n_iter):\n",
    "            net_input = self.net_input(X)\n",
    "            output = self.activation(net_input)\n",
    "            errors = (y - output)\n",
    "            \n",
    "            self.w_ += self.eta * X.T.dot(errors) / X.shape[0]   ###\n",
    "    \n",
    "            self.b_ += self.eta * errors.mean()\n",
    "            \n",
    "            loss = -y.dot(np.log(output)) - ((1 - y).dot(np.log(1 - output))) / X.shape[0]     # <<------------|\n",
    "            self.losses_.append(loss)\n",
    "        return self\n",
    "\n",
    "    def net_input(self, X):\n",
    "        \"\"\"Calculate net input\"\"\"\n",
    "        return np.dot(X, self.w_) + self.b_\n",
    "\n",
    "    def activation(self, z):\n",
    "        \"\"\"Compute logistic sigmoid activation\"\"\"\n",
    "        return 1. / (1. + np.exp(-np.clip(z, -250, 250)))    # <<-----------------------------------------|\n",
    "\n",
    "    def predict(self, X): \n",
    "        \"\"\"Return class label after unit step\"\"\"\n",
    "        return np.where(self.activation(self.net_input(X)) >= 0.5, 1, 0)"
   ]
  },
  {
   "cell_type": "code",
   "execution_count": 4,
   "id": "fa0b4810",
   "metadata": {},
   "outputs": [],
   "source": [
    "# A function for plotting decision regions\n",
    "def plot_decision_regions(X, y, classifier, resolution=0.02):\n",
    "\n",
    "    # setup marker generator and color map\n",
    "    markers = ('o', 's', '^', 'v', '<')\n",
    "    colors = ('red', 'blue', 'lightgreen', 'gray', 'cyan')\n",
    "    cmap = ListedColormap(colors[:len(np.unique(y))])\n",
    "\n",
    "    # plot the decision surface\n",
    "    x1_min, x1_max = X[:, 0].min() - 1, X[:, 0].max() + 1\n",
    "    x2_min, x2_max = X[:, 1].min() - 1, X[:, 1].max() + 1\n",
    "    xx1, xx2 = np.meshgrid(np.arange(x1_min, x1_max, resolution),\n",
    "                           np.arange(x2_min, x2_max, resolution))\n",
    "    lab = classifier.predict(np.array([xx1.ravel(), xx2.ravel()]).T)\n",
    "    lab = lab.reshape(xx1.shape)\n",
    "    plt.contourf(xx1, xx2, lab, alpha=0.3, cmap=cmap)\n",
    "    plt.xlim(xx1.min(), xx1.max())\n",
    "    plt.ylim(xx2.min(), xx2.max())\n",
    "\n",
    "    # plot class examples\n",
    "    for idx, cl in enumerate(np.unique(y)):\n",
    "        plt.scatter(x=X[y == cl, 0], \n",
    "                    y=X[y == cl, 1],\n",
    "                    alpha=0.8, \n",
    "                    c=colors[idx],\n",
    "                    marker=markers[idx], \n",
    "                    label=f'Class {cl}', \n",
    "                    edgecolor='black')"
   ]
  },
  {
   "cell_type": "markdown",
   "id": "dde959c6",
   "metadata": {},
   "source": [
    "### EXAMPLE 1: two classes, two features"
   ]
  },
  {
   "cell_type": "code",
   "execution_count": 5,
   "id": "d60ccbaa",
   "metadata": {},
   "outputs": [],
   "source": [
    "# Logistic regression is a model for binary classification\n",
    "\n",
    "# We work with only two classes: setosa and versicolor\n",
    "y = df.iloc[0:100, 4].values\n",
    "y = np.where(y == 'Iris-setosa', 0, 1)\n",
    "\n",
    "# For simplicity of rappresentation, we extract two features: sepal length and petal length\n",
    "X = df.iloc[0:100, [0, 2]].values"
   ]
  },
  {
   "cell_type": "code",
   "execution_count": 6,
   "id": "73078bbc",
   "metadata": {},
   "outputs": [
    {
     "data": {
      "image/png": "[encoded data removed]",
      "text/plain": [
       "<Figure size 432x288 with 1 Axes>"
      ]
     },
     "metadata": {
      "needs_background": "light"
     },
     "output_type": "display_data"
    }
   ],
   "source": [
    "# Plot the data\n",
    "plt.scatter(X[:50, 0], X[:50, 1],\n",
    "            color='red', marker='o', label='Setosa')\n",
    "plt.scatter(X[50:100, 0], X[50:100, 1],\n",
    "            color='blue', marker='s', label='Versicolor')\n",
    "\n",
    "plt.xlabel('Sepal length [cm]')\n",
    "plt.ylabel('Petal length [cm]')\n",
    "plt.legend(loc='upper left')\n",
    "\n",
    "plt.show()"
   ]
  },
  {
   "cell_type": "code",
   "execution_count": 7,
   "id": "50ee34c8",
   "metadata": {},
   "outputs": [],
   "source": [
    "# Call the class\n",
    "lrgd = LogisticRegressionGD(eta=0.3, n_iter=1000, random_state=1)\n",
    "\n",
    "# Fit the class on the (restricted) dataset\n",
    "lrgd.fit(X,y);"
   ]
  },
  {
   "cell_type": "code",
   "execution_count": 9,
   "id": "08c79e90",
   "metadata": {},
   "outputs": [
    {
     "data": {
      "image/png": "[encoded data removed]",
      "text/plain": [
       "<Figure size 432x288 with 1 Axes>"
      ]
     },
     "metadata": {
      "needs_background": "light"
     },
     "output_type": "display_data"
    }
   ],
   "source": [
    "# Plot the predicted data\n",
    "y_pred = lrgd.predict(X)\n",
    "\n",
    "plt.scatter(X[:50, 0], X[:50, 1],\n",
    "            color='red', marker='o', label='Setosa')\n",
    "plt.scatter(X[50:100, 0], X[50:100, 1],\n",
    "            color='blue', marker='*', label='Versicolor')\n",
    "\n",
    "dict_iris = {0: '.', 1: 'x'}\n",
    "\n",
    "for j in np.arange(100):\n",
    "    plt.scatter(X[j, 0], X[j, 1],\n",
    "            color='black', marker=dict_iris[y_pred[j]])\n",
    "\n",
    "\n",
    "plt.xlabel('Sepal length [cm]')\n",
    "plt.ylabel('Petal length [cm]')\n",
    "plt.legend(loc='upper left')\n",
    "\n",
    "plt.show()"
   ]
  },
  {
   "cell_type": "markdown",
   "id": "ee8326af",
   "metadata": {},
   "source": [
    "### EXAMPLE 2: two classes, all features"
   ]
  },
  {
   "cell_type": "code",
   "execution_count": 11,
   "id": "5c284f92",
   "metadata": {},
   "outputs": [],
   "source": [
    "# We repeat now the experiments by considering all the features\n",
    "X_all = df.iloc[0:100, :4].values"
   ]
  },
  {
   "cell_type": "code",
   "execution_count": 12,
   "id": "a16d3295",
   "metadata": {},
   "outputs": [],
   "source": [
    "# Call the class\n",
    "lrgd = LogisticRegressionGD(eta=0.3, n_iter=1000, random_state=1)\n",
    "\n",
    "# Fit the class on the (extended) dataset\n",
    "lrgd.fit(X_all,y);"
   ]
  },
  {
   "cell_type": "code",
   "execution_count": 13,
   "id": "5f0d2408",
   "metadata": {},
   "outputs": [
    {
     "data": {
      "text/plain": [
       "array([0, 0, 0, 0, 0, 0, 0, 0, 0, 0, 0, 0, 0, 0, 0, 0, 0, 0, 0, 0, 0, 0,\n",
       "       0, 0, 0, 0, 0, 0, 0, 0, 0, 0, 0, 0, 0, 0, 0, 0, 0, 0, 0, 0, 0, 0,\n",
       "       0, 0, 0, 0, 0, 0, 1, 1, 1, 1, 1, 1, 1, 1, 1, 1, 1, 1, 1, 1, 1, 1,\n",
       "       1, 1, 1, 1, 1, 1, 1, 1, 1, 1, 1, 1, 1, 1, 1, 1, 1, 1, 1, 1, 1, 1,\n",
       "       1, 1, 1, 1, 1, 1, 1, 1, 1, 1, 1, 1])"
      ]
     },
     "execution_count": 13,
     "metadata": {},
     "output_type": "execute_result"
    }
   ],
   "source": [
    "# We can check the prediction with the predict function\n",
    "lrgd.predict(X_all)"
   ]
  },
  {
   "cell_type": "code",
   "execution_count": 149,
   "id": "1132a520",
   "metadata": {},
   "outputs": [
    {
     "data": {
      "text/plain": [
       "array([9.80388617e-04, 3.88438418e-03, 1.85066153e-03, 5.41511499e-03,\n",
       "       8.17776174e-04, 1.29850488e-03, 2.08416032e-03, 1.96603819e-03,\n",
       "       6.95892085e-03, 3.74130715e-03, 7.12226299e-04, 3.28703727e-03,\n",
       "       3.51012491e-03, 1.57387235e-03, 8.23638328e-05, 1.42904444e-04,\n",
       "       2.83815901e-04, 1.16083506e-03, 1.14899056e-03, 8.04951737e-04,\n",
       "       3.20865476e-03, 1.22225433e-03, 2.33987188e-04, 8.32580435e-03,\n",
       "       1.02190268e-02, 7.74058244e-03, 4.02539296e-03, 1.34018833e-03,\n",
       "       1.17529804e-03, 5.77103620e-03, 6.91177689e-03, 2.10514003e-03,\n",
       "       2.54362072e-04, 1.31146975e-04, 3.74130715e-03, 1.03420406e-03,\n",
       "       5.11962362e-04, 3.74130715e-03, 3.72067193e-03, 1.83805997e-03,\n",
       "       8.49145294e-04, 2.30739456e-02, 2.26470006e-03, 4.39970943e-03,\n",
       "       4.35035507e-03, 4.91598835e-03, 9.94143018e-04, 2.89316431e-03,\n",
       "       7.61876166e-04, 1.72427932e-03, 9.99193646e-01, 9.99027926e-01,\n",
       "       9.99767999e-01, 9.99470143e-01, 9.99737219e-01, 9.99685674e-01,\n",
       "       9.99539869e-01, 9.89310623e-01, 9.99494408e-01, 9.98554068e-01,\n",
       "       9.98008739e-01, 9.98680227e-01, 9.99039182e-01, 9.99791634e-01,\n",
       "       9.88564252e-01, 9.98393697e-01, 9.99655314e-01, 9.98009246e-01,\n",
       "       9.99929484e-01, 9.98089246e-01, 9.99866453e-01, 9.97248734e-01,\n",
       "       9.99965237e-01, 9.99772177e-01, 9.98618092e-01, 9.98828867e-01,\n",
       "       9.99821959e-01, 9.99922955e-01, 9.99648075e-01, 9.85952457e-01,\n",
       "       9.97963186e-01, 9.96476561e-01, 9.96965511e-01, 9.99981566e-01,\n",
       "       9.99698792e-01, 9.98968864e-01, 9.99566239e-01, 9.99801501e-01,\n",
       "       9.97790157e-01, 9.99128524e-01, 9.99710776e-01, 9.99609086e-01,\n",
       "       9.98380551e-01, 9.91069223e-01, 9.99283145e-01, 9.98085670e-01,\n",
       "       9.98738963e-01, 9.98792245e-01, 9.59759289e-01, 9.98562061e-01])"
      ]
     },
     "execution_count": 149,
     "metadata": {},
     "output_type": "execute_result"
    }
   ],
   "source": [
    "# We can print the class-probabilities\n",
    "lrgd.activation(lrgd.net_input(X_all))"
   ]
  },
  {
   "cell_type": "code",
   "execution_count": 15,
   "id": "9f10168e",
   "metadata": {
    "scrolled": true
   },
   "outputs": [
    {
     "data": {
      "image/png": "[encoded data removed]",
      "text/plain": [
       "<Figure size 432x288 with 1 Axes>"
      ]
     },
     "metadata": {
      "needs_background": "light"
     },
     "output_type": "display_data"
    }
   ],
   "source": [
    "# Plot the predicted data\n",
    "\n",
    "# We have 4 features, so we can not plot all of them. \n",
    "# But we can choose a subset of two features (or three for a 3D plot)\n",
    "\n",
    "y_pred = lrgd.predict(X_all) # of course the prediction uses all of them!!\n",
    "\n",
    "# Select features to plot:\n",
    "ftp = [0, 2]\n",
    "\n",
    "plt.scatter(X_all[:50, ftp[0]], X_all[:50, ftp[1]],\n",
    "            color='red', marker='o', label='Setosa')\n",
    "plt.scatter(X_all[50:100, ftp[0]], X_all[50:100, ftp[1]],\n",
    "            color='blue', marker='*', label='Versicolor')\n",
    "\n",
    "dict_iris = {0: '.', 1: 'x'}\n",
    "\n",
    "for j in np.arange(100):\n",
    "    plt.scatter(X_all[j, ftp[0]], X_all[j, ftp[1]],\n",
    "            color='black', marker=dict_iris[y_pred[j]])\n",
    "\n",
    "dict_features = {0: 'Sepal length [cm]', 1: 'Sepal width [cm]', 2: 'Petal length [cm]', 3: 'Petal width [cm]'}\n",
    "plt.xlabel(dict_features[ftp[0]])\n",
    "plt.ylabel(dict_features[ftp[1]])\n",
    "plt.legend(loc='upper left')\n",
    "\n",
    "plt.show()"
   ]
  },
  {
   "cell_type": "code",
   "execution_count": null,
   "id": "5837479d",
   "metadata": {},
   "outputs": [],
   "source": []
  },
  {
   "cell_type": "code",
   "execution_count": null,
   "id": "bda9542e",
   "metadata": {},
   "outputs": [],
   "source": []
  },
  {
   "cell_type": "markdown",
   "id": "98afc0fa",
   "metadata": {},
   "source": [
    "### EXAMPLE 3: OvA for multiclass"
   ]
  },
  {
   "cell_type": "code",
   "execution_count": 81,
   "id": "a75fd8c6",
   "metadata": {},
   "outputs": [],
   "source": [
    "# We now want to work with all the three classes"
   ]
  },
  {
   "cell_type": "code",
   "execution_count": 89,
   "id": "d6708f6b",
   "metadata": {},
   "outputs": [],
   "source": [
    "# We create the dataset\n",
    "# Using integer labels is a recommended approach to avoid technical glitches\n",
    "# and improve computational performance due to a smaller memory footprint.\n",
    "y_all = df.iloc[:, 4].values\n",
    "y_all = np.where(y_all == 'Iris-setosa', 0, y_all)\n",
    "y_all = np.where(y_all == 'Iris-versicolor', 1, y_all)\n",
    "y_all = np.where(y_all == 'Iris-virginica', 2, y_all)\n",
    "\n",
    "X_all2 = df.iloc[:, :4].values"
   ]
  },
  {
   "cell_type": "code",
   "execution_count": 90,
   "id": "44c92399",
   "metadata": {},
   "outputs": [
    {
     "name": "stdout",
     "output_type": "stream",
     "text": [
      "Class labels: [0 1 2]\n"
     ]
    }
   ],
   "source": [
    "print('Class labels:', np.unique(y_all))"
   ]
  },
  {
   "cell_type": "code",
   "execution_count": 91,
   "id": "f4432549",
   "metadata": {},
   "outputs": [],
   "source": [
    "probabilities = np.zeros((X_all2.shape[0], 3))\n",
    "\n",
    "for k in range(3): # k=0, 1, 2\n",
    "    y_k = np.where(y_all == k, 1, 0)\n",
    "    \n",
    "    lrgd = LogisticRegressionGD(eta=0.3, n_iter=1000, random_state=1)\n",
    "    lrgd.fit(X_all2, y_k)\n",
    "    probabilities[:, k] = lrgd.activation(lrgd.net_input(X_all2))\n",
    "    "
   ]
  },
  {
   "cell_type": "code",
   "execution_count": 94,
   "id": "b896bc6b",
   "metadata": {},
   "outputs": [
    {
     "data": {
      "text/plain": [
       "array([[9.98426397e-01, 1.98703267e-01, 6.53709960e-10],\n",
       "       [9.94462530e-01, 5.89366925e-01, 5.36594703e-09],\n",
       "       [9.97161836e-01, 2.62778257e-01, 3.49954053e-09],\n",
       "       [9.92306781e-01, 3.71812120e-01, 1.60275735e-08],\n",
       "       [9.98656379e-01, 1.16887028e-01, 6.63423575e-10],\n",
       "       [9.97905240e-01, 4.76534951e-02, 7.89967529e-10],\n",
       "       [9.96755553e-01, 8.35891394e-02, 6.66592514e-09],\n",
       "       [9.96997734e-01, 2.64139097e-01, 1.89581041e-09],\n",
       "       [9.90327245e-01, 4.51016143e-01, 3.42252414e-08],\n",
       "       [9.94647682e-01, 6.24955952e-01, 3.94039380e-09],\n",
       "       [9.98831738e-01, 1.78773413e-01, 2.24244617e-10],\n",
       "       [9.95112522e-01, 2.17118462e-01, 5.57969559e-09],\n",
       "       [9.94966977e-01, 6.47014793e-01, 4.58200465e-09],\n",
       "       [9.97562044e-01, 3.11311087e-01, 5.51615288e-09],\n",
       "       [9.99843242e-01, 8.04227627e-02, 6.73454548e-12],\n",
       "       [9.99726768e-01, 7.94161575e-03, 2.82663498e-11],\n",
       "       [9.99492113e-01, 2.80840022e-02, 1.27005179e-10],\n",
       "       [9.98147756e-01, 1.37449585e-01, 1.04510586e-09],\n",
       "       [9.98177769e-01, 1.78040260e-01, 2.61251992e-10],\n",
       "       [9.98656884e-01, 4.78810044e-02, 6.78065513e-10],\n",
       "       [9.95345526e-01, 5.10117892e-01, 1.36129268e-09],\n",
       "       [9.98019837e-01, 4.73362384e-02, 1.45822777e-09],\n",
       "       [9.99573906e-01, 3.35097183e-02, 3.70459207e-10],\n",
       "       [9.88432958e-01, 1.90179602e-01, 1.90374400e-08],\n",
       "       [9.85968048e-01, 2.95105330e-01, 2.19761371e-08],\n",
       "       [9.89529714e-01, 6.97098828e-01, 9.80293129e-09],\n",
       "       [9.94083824e-01, 1.45327752e-01, 7.65230404e-09],\n",
       "       [9.97903667e-01, 2.57400982e-01, 7.56219251e-10],\n",
       "       [9.98157123e-01, 3.17216733e-01, 6.44138567e-10],\n",
       "       [9.91820110e-01, 3.49836962e-01, 1.37832578e-08],\n",
       "       [9.90431205e-01, 5.02017629e-01, 1.35814482e-08],\n",
       "       [9.96820681e-01, 2.46288438e-01, 1.39510844e-09],\n",
       "       [9.99539100e-01, 3.92214132e-02, 7.98364818e-11],\n",
       "       [9.99751685e-01, 2.62025862e-02, 2.36155529e-11],\n",
       "       [9.94647682e-01, 6.24955952e-01, 3.94039380e-09],\n",
       "       [9.98371137e-01, 3.59857749e-01, 8.70985853e-10],\n",
       "       [9.99156060e-01, 3.22742094e-01, 1.19179305e-10],\n",
       "       [9.94647682e-01, 6.24955952e-01, 3.94039380e-09],\n",
       "       [9.94561878e-01, 3.17769147e-01, 1.61109463e-08],\n",
       "       [9.97192548e-01, 3.04292117e-01, 1.38870686e-09],\n",
       "       [9.98609706e-01, 1.02336026e-01, 9.03436548e-10],\n",
       "       [9.71646357e-01, 8.81089027e-01, 1.50370115e-07],\n",
       "       [9.96529221e-01, 1.64592237e-01, 8.90356637e-09],\n",
       "       [9.93458513e-01, 4.36732115e-02, 1.45399881e-08],\n",
       "       [9.93500995e-01, 5.29957174e-02, 6.74271252e-09],\n",
       "       [9.93036394e-01, 4.30823444e-01, 1.17113210e-08],\n",
       "       [9.98374150e-01, 8.23770708e-02, 6.69797354e-10],\n",
       "       [9.95678575e-01, 2.51255464e-01, 7.54470569e-09],\n",
       "       [9.98750528e-01, 1.51574702e-01, 3.06130324e-10],\n",
       "       [9.97360431e-01, 3.24835735e-01, 1.61482877e-09],\n",
       "       [1.34792269e-03, 9.46569882e-01, 4.22117143e-03],\n",
       "       [1.55363654e-03, 7.25510609e-01, 1.72856074e-02],\n",
       "       [4.20681500e-04, 9.49759155e-01, 3.01042018e-02],\n",
       "       [9.10108105e-04, 9.63146062e-01, 1.42656828e-01],\n",
       "       [4.73441215e-04, 9.53808737e-01, 6.24629513e-02],\n",
       "       [5.46165177e-04, 8.99695458e-01, 1.66053980e-01],\n",
       "       [7.61131331e-04, 5.44002641e-01, 6.64464022e-02],\n",
       "       [1.46740848e-02, 8.82158660e-01, 7.93507759e-03],\n",
       "       [8.79225584e-04, 9.75386253e-01, 1.39958599e-02],\n",
       "       [2.21671484e-03, 5.91475509e-01, 1.15740346e-01],\n",
       "       [3.16975104e-03, 9.85313285e-01, 4.56601995e-02],\n",
       "       [2.04733365e-03, 6.06453540e-01, 3.69032870e-02],\n",
       "       [1.65847559e-03, 9.97547560e-01, 1.14203884e-02],\n",
       "       [3.74345554e-04, 9.15789514e-01, 1.45246448e-01],\n",
       "       [1.53354285e-02, 5.81893716e-01, 3.29655659e-03],\n",
       "       [2.54437917e-03, 9.08875404e-01, 3.66998223e-03],\n",
       "       [5.78255517e-04, 5.62516280e-01, 2.77437149e-01],\n",
       "       [3.13551608e-03, 9.73383026e-01, 7.66041875e-03],\n",
       "       [1.42599596e-04, 9.92450872e-01, 3.88727957e-01],\n",
       "       [3.01399415e-03, 9.66026862e-01, 1.64138917e-02],\n",
       "       [2.34962392e-04, 2.82724838e-01, 5.73066820e-01],\n",
       "       [4.19462880e-03, 9.08708705e-01, 5.80245754e-03],\n",
       "       [7.26329771e-05, 9.87065733e-01, 5.43454514e-01],\n",
       "       [4.14156121e-04, 9.75898991e-01, 8.20904539e-02],\n",
       "       [2.22389713e-03, 9.46468078e-01, 6.67177539e-03],\n",
       "       [1.89976820e-03, 9.26393084e-01, 6.71886301e-03],\n",
       "       [3.35650241e-04, 9.87097006e-01, 3.92474422e-02],\n",
       "       [1.48533748e-04, 9.02663404e-01, 2.39013940e-01],\n",
       "       [6.04025421e-04, 8.13372985e-01, 1.29455676e-01],\n",
       "       [1.93250869e-02, 9.52941564e-01, 9.13012318e-04],\n",
       "       [3.20561487e-03, 9.69019501e-01, 1.90356753e-02],\n",
       "       [5.36915943e-03, 9.76974773e-01, 7.62724635e-03],\n",
       "       [4.59044017e-03, 9.19845156e-01, 7.84921696e-03],\n",
       "       [3.89413328e-05, 9.37842494e-01, 8.69678889e-01],\n",
       "       [5.05484725e-04, 4.64095278e-01, 4.17106437e-01],\n",
       "       [1.58272640e-03, 2.45797167e-01, 5.12131417e-02],\n",
       "       [7.47130750e-04, 9.06326547e-01, 2.26682907e-02],\n",
       "       [3.77607857e-04, 9.95473761e-01, 7.90140095e-02],\n",
       "       [3.30247873e-03, 6.42612114e-01, 2.35823156e-02],\n",
       "       [1.42806505e-03, 9.17043360e-01, 8.42123165e-02],\n",
       "       [5.10451584e-04, 9.50918572e-01, 2.10085089e-01],\n",
       "       [6.68496574e-04, 8.60444899e-01, 7.40660425e-02],\n",
       "       [2.57500721e-03, 9.52921767e-01, 1.65285924e-02],\n",
       "       [1.25535412e-02, 9.33445367e-01, 7.81980348e-03],\n",
       "       [1.18012847e-03, 8.82321743e-01, 8.49526463e-02],\n",
       "       [2.91836257e-03, 7.96382260e-01, 1.71756882e-02],\n",
       "       [1.98008221e-03, 7.94427044e-01, 3.62217224e-02],\n",
       "       [1.94443284e-03, 9.22528775e-01, 1.23627406e-02],\n",
       "       [4.99154604e-02, 7.54736777e-01, 1.29340980e-03],\n",
       "       [2.25236528e-03, 8.38180104e-01, 3.10197618e-02],\n",
       "       [1.74295075e-06, 1.17229795e-01, 9.99458441e-01],\n",
       "       [2.08546104e-05, 7.29484820e-01, 9.80702592e-01],\n",
       "       [4.15861821e-06, 9.23031347e-01, 9.73041312e-01],\n",
       "       [9.16324173e-06, 9.04504682e-01, 9.73257110e-01],\n",
       "       [3.36286238e-06, 6.72393803e-01, 9.95789817e-01],\n",
       "       [4.86361941e-07, 9.88264144e-01, 9.94666187e-01],\n",
       "       [8.43787711e-05, 5.33598080e-01, 9.74487443e-01],\n",
       "       [1.50027141e-06, 9.94433819e-01, 9.75403150e-01],\n",
       "       [2.39414231e-06, 9.93530490e-01, 9.88447824e-01],\n",
       "       [4.40641336e-06, 1.98825429e-01, 9.86432627e-01],\n",
       "       [8.75993786e-05, 4.45750096e-01, 6.76115448e-01],\n",
       "       [1.53640655e-05, 9.20729468e-01, 9.51410584e-01],\n",
       "       [1.40390123e-05, 7.92867591e-01, 9.36563456e-01],\n",
       "       [1.50380842e-05, 7.45603702e-01, 9.92192928e-01],\n",
       "       [1.15484635e-05, 1.61206160e-01, 9.97472070e-01],\n",
       "       [2.46890866e-05, 1.87309871e-01, 9.66713852e-01],\n",
       "       [1.87258992e-05, 8.88556483e-01, 9.01886909e-01],\n",
       "       [1.88262107e-06, 7.07724418e-01, 9.69852148e-01],\n",
       "       [5.25447795e-08, 9.97210567e-01, 9.99777954e-01],\n",
       "       [2.11668682e-05, 9.94346825e-01, 9.20896421e-01],\n",
       "       [8.36688281e-06, 5.17400091e-01, 9.74423152e-01],\n",
       "       [3.94270945e-05, 3.65816728e-01, 9.78324302e-01],\n",
       "       [2.73660008e-07, 9.97696047e-01, 9.95921120e-01],\n",
       "       [6.98621667e-05, 8.95462791e-01, 7.28858686e-01],\n",
       "       [1.27030308e-05, 5.32109191e-01, 9.53812681e-01],\n",
       "       [7.99481264e-06, 9.63924871e-01, 8.49554651e-01],\n",
       "       [1.16668700e-04, 7.99423805e-01, 6.33357699e-01],\n",
       "       [1.20114982e-04, 6.13474690e-01, 6.73006789e-01],\n",
       "       [4.79246999e-06, 8.24839159e-01, 9.93221911e-01],\n",
       "       [1.43483694e-05, 9.91470875e-01, 6.15823434e-01],\n",
       "       [2.21082883e-06, 9.93919232e-01, 9.61609939e-01],\n",
       "       [8.65156732e-06, 8.52232317e-01, 6.31635785e-01],\n",
       "       [4.07038333e-06, 7.51619078e-01, 9.95749540e-01],\n",
       "       [7.02953766e-05, 9.65068018e-01, 5.49479806e-01],\n",
       "       [7.82498744e-06, 9.92699917e-01, 9.61935241e-01],\n",
       "       [2.21005342e-06, 9.55217391e-01, 9.72636005e-01],\n",
       "       [1.06219101e-05, 7.20237341e-02, 9.92804088e-01],\n",
       "       [2.19361148e-05, 8.09729552e-01, 9.03184367e-01],\n",
       "       [1.60093000e-04, 5.31718357e-01, 6.40180679e-01],\n",
       "       [2.68229790e-05, 7.25606473e-01, 8.35818540e-01],\n",
       "       [7.06757750e-06, 3.83455384e-01, 9.89763408e-01],\n",
       "       [5.60645237e-05, 4.19746761e-01, 7.67640478e-01],\n",
       "       [2.08546104e-05, 7.29484820e-01, 9.80702592e-01],\n",
       "       [3.84871311e-06, 5.36572837e-01, 9.92349569e-01],\n",
       "       [6.61016619e-06, 1.62430110e-01, 9.92642138e-01],\n",
       "       [2.74348683e-05, 4.62176616e-01, 9.28974808e-01],\n",
       "       [2.65119727e-05, 9.37218730e-01, 9.24703358e-01],\n",
       "       [3.91406147e-05, 6.85641915e-01, 8.56431828e-01],\n",
       "       [2.37644660e-05, 7.00472022e-02, 9.79269523e-01],\n",
       "       [5.16600853e-05, 5.84492362e-01, 9.05359348e-01]])"
      ]
     },
     "execution_count": 94,
     "metadata": {},
     "output_type": "execute_result"
    }
   ],
   "source": [
    "probabilities"
   ]
  },
  {
   "cell_type": "code",
   "execution_count": 96,
   "id": "ce0e0730",
   "metadata": {},
   "outputs": [
    {
     "data": {
      "text/plain": [
       "array([1.19712967, 1.58382946, 1.2599401 , 1.36411892, 1.11554341,\n",
       "       1.04555874, 1.0803447 , 1.26113683, 1.44134342, 1.61960364,\n",
       "       1.17760515, 1.21223099, 1.64198178, 1.30887314, 1.080266  ,\n",
       "       1.00766838, 1.02757611, 1.13559734, 1.17621803, 1.04653789,\n",
       "       1.50546342, 1.04535608, 1.03308362, 1.17861258, 1.2810734 ,\n",
       "       1.68662855, 1.13941158, 1.25530465, 1.31537386, 1.34165709,\n",
       "       1.49244885, 1.24310912, 1.03876051, 1.02595427, 1.61960364,\n",
       "       1.35822889, 1.32189815, 1.61960364, 1.31233104, 1.30148467,\n",
       "       1.10094573, 1.85273553, 1.16112147, 1.03713174, 1.04649672,\n",
       "       1.42385985, 1.08075122, 1.24693405, 1.15032523, 1.32219617,\n",
       "       0.95213898, 0.74434985, 0.98028404, 1.106713  , 1.01674513,\n",
       "       1.0662956 , 0.61121017, 0.90476782, 0.99026134, 0.70943257,\n",
       "       1.03414324, 0.64540416, 1.01062642, 1.06141031, 0.6005257 ,\n",
       "       0.91508977, 0.84053168, 0.98417896, 1.38132143, 0.98545475,\n",
       "       0.85602662, 0.91870579, 1.53059288, 1.0584036 , 0.95536375,\n",
       "       0.93501172, 1.0266801 , 1.14182588, 0.94343269, 0.97317966,\n",
       "       0.99126079, 0.98997118, 0.93228481, 1.80756032, 0.8817072 ,\n",
       "       0.29859303, 0.92974197, 1.07486538, 0.66949691, 1.00268374,\n",
       "       1.16151411, 0.93517944, 0.97202537, 0.95381871, 0.96845452,\n",
       "       0.81647631, 0.83262885, 0.93683595, 0.80594565, 0.87145223,\n",
       "       1.11668998, 1.71020827, 1.89607682, 1.87777096, 1.66818698,\n",
       "       1.98293082, 1.5081699 , 1.96983847, 1.98198071, 1.18526246,\n",
       "       1.12195314, 1.87215542, 1.72944509, 1.73781167, 1.15868978,\n",
       "       1.15404841, 1.79046212, 1.67757845, 1.99698857, 1.91526441,\n",
       "       1.49183161, 1.34418046, 1.99361744, 1.62439134, 1.48593458,\n",
       "       1.81348752, 1.43289817, 1.28660159, 1.81806586, 1.60730866,\n",
       "       1.95553138, 1.48387675, 1.74737269, 1.51461812, 1.95464298,\n",
       "       1.92785561, 1.06483844, 1.71293585, 1.17205913, 1.56145184,\n",
       "       1.37322586, 1.1874433 , 1.71020827, 1.52892626, 1.15507886,\n",
       "       1.39117886, 1.8619486 , 1.54211288, 1.04934049, 1.48990337])"
      ]
     },
     "execution_count": 96,
     "metadata": {},
     "output_type": "execute_result"
    }
   ],
   "source": [
    "# For O-vs-A the sum of the rows is not 1\n",
    "np.sum(probabilities, axis = 1)"
   ]
  },
  {
   "cell_type": "code",
   "execution_count": 95,
   "id": "09d4814d",
   "metadata": {},
   "outputs": [
    {
     "data": {
      "text/plain": [
       "array([0, 0, 0, 0, 0, 0, 0, 0, 0, 0, 0, 0, 0, 0, 0, 0, 0, 0, 0, 0, 0, 0,\n",
       "       0, 0, 0, 0, 0, 0, 0, 0, 0, 0, 0, 0, 0, 0, 0, 0, 0, 0, 0, 0, 0, 0,\n",
       "       0, 0, 0, 0, 0, 0, 1, 1, 1, 1, 1, 1, 1, 1, 1, 1, 1, 1, 1, 1, 1, 1,\n",
       "       1, 1, 1, 1, 2, 1, 1, 1, 1, 1, 1, 1, 1, 1, 1, 1, 1, 1, 1, 1, 1, 1,\n",
       "       1, 1, 1, 1, 1, 1, 1, 1, 1, 1, 1, 1, 2, 2, 2, 2, 2, 2, 2, 1, 1, 2,\n",
       "       2, 2, 2, 2, 2, 2, 2, 2, 2, 1, 2, 2, 1, 1, 2, 1, 1, 2, 2, 1, 1, 1,\n",
       "       2, 1, 1, 2, 2, 2, 2, 2, 2, 2, 2, 2, 2, 2, 1, 2, 2, 2])"
      ]
     },
     "execution_count": 95,
     "metadata": {},
     "output_type": "execute_result"
    }
   ],
   "source": [
    "# We can choose the prediction with the argmax function\n",
    "np.argmax(probabilities, axis =1)"
   ]
  },
  {
   "cell_type": "code",
   "execution_count": null,
   "id": "345ca162",
   "metadata": {},
   "outputs": [],
   "source": []
  },
  {
   "cell_type": "code",
   "execution_count": null,
   "id": "159dadcf",
   "metadata": {},
   "outputs": [],
   "source": []
  },
  {
   "cell_type": "code",
   "execution_count": null,
   "id": "bd42abb6",
   "metadata": {},
   "outputs": [],
   "source": []
  },
  {
   "cell_type": "code",
   "execution_count": 8,
   "id": "44ecc01c",
   "metadata": {},
   "outputs": [
    {
     "data": {
      "image/png": "[encoded data removed]",
      "text/plain": [
       "<Figure size 432x288 with 1 Axes>"
      ]
     },
     "metadata": {
      "needs_background": "light"
     },
     "output_type": "display_data"
    }
   ],
   "source": [
    "# We plot the decision boundary\n",
    "plot_decision_regions(X=X, \n",
    "                      y=y,\n",
    "                      classifier=lrgd)\n",
    "\n",
    "plt.xlabel('Petal length [standardized]')\n",
    "plt.ylabel('Petal width [standardized]')\n",
    "plt.legend(loc='upper left')\n",
    "\n",
    "plt.tight_layout()\n",
    "plt.show()"
   ]
  }
 ],
 "metadata": {
  "kernelspec": {
   "display_name": "Python 3 (ipykernel)",
   "language": "python",
   "name": "python3"
  },
  "language_info": {
   "codemirror_mode": {
    "name": "ipython",
    "version": 3
   },
   "file_extension": ".py",
   "mimetype": "text/x-python",
   "name": "python",
   "nbconvert_exporter": "python",
   "pygments_lexer": "ipython3",
   "version": "3.9.12"
  }
 },
 "nbformat": 4,
 "nbformat_minor": 5
}
